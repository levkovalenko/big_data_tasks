{
 "cells": [
  {
   "cell_type": "markdown",
   "id": "f0be7f10",
   "metadata": {},
   "source": [
    "# Task-1\n",
    "Нужно написать две программы: Первая генерирует бинарный файл (min 2Гб), состоящий из случайных 32-рязрядных беззнаковых целых чисел (big endian). Вторая считает сумму этих чисел (с применением длинной арифметики), находит минимальное и максимальное число.\n",
    "\n",
    "Реализуйте две версии - 1. Простое последовательное чтение 2. Многопоточная + memory-mapped files. Сравните время работы."
   ]
  },
  {
   "cell_type": "code",
   "execution_count": 1,
   "id": "5d8d962f",
   "metadata": {},
   "outputs": [],
   "source": [
    "filename = 'local_numbers_32b.npy'\n",
    "size = 2*1024*1024*1024"
   ]
  },
  {
   "cell_type": "code",
   "execution_count": 2,
   "id": "3e62d4aa",
   "metadata": {},
   "outputs": [],
   "source": [
    "def print_result(a_sum: int, a_min: int, a_max: int):\n",
    "    print(f\"Sum of elements: {a_sum}\")\n",
    "    print(f\"Min element: {a_min}\")\n",
    "    print(f\"Max element: {a_max}\")"
   ]
  },
  {
   "cell_type": "markdown",
   "id": "bb49bc20",
   "metadata": {},
   "source": [
    "## Генерация данных\n",
    "В файл записывпается массив беззнаковых чисел с байтовым порядком Bif Endian. Навазние файла и его размер задается как аргуемнты функции. "
   ]
  },
  {
   "cell_type": "code",
   "execution_count": 3,
   "id": "352b589e",
   "metadata": {},
   "outputs": [],
   "source": [
    "from data_generation import generate_file"
   ]
  },
  {
   "cell_type": "code",
   "execution_count": 4,
   "id": "7251de50",
   "metadata": {},
   "outputs": [
    {
     "name": "stdout",
     "output_type": "stream",
     "text": [
      "Sum of elements: 1152916250510977556\n",
      "Min element: 4\n",
      "Max element: 4294967286\n"
     ]
    }
   ],
   "source": [
    "print_result(*generate_file(size, filename))"
   ]
  },
  {
   "cell_type": "markdown",
   "id": "e75b900b",
   "metadata": {},
   "source": [
    "## Последовательное чтение 1\n",
    "Последовательное считывание данных и нахождение суммы, минимального и максимального чисел. Для реализации используются функции numpy."
   ]
  },
  {
   "cell_type": "code",
   "execution_count": 5,
   "id": "80f00cea",
   "metadata": {},
   "outputs": [],
   "source": [
    "import numpy as np\n",
    "from data_generation import read_file"
   ]
  },
  {
   "cell_type": "code",
   "execution_count": 6,
   "id": "252d40cc",
   "metadata": {},
   "outputs": [
    {
     "name": "stdout",
     "output_type": "stream",
     "text": [
      "Sum of elements: 1152916250510977556\n",
      "Min element: 4\n",
      "Max element: 4294967286\n",
      "CPU times: user 2.22 s, sys: 459 ms, total: 2.68 s\n",
      "Wall time: 2.68 s\n"
     ]
    }
   ],
   "source": [
    "%%time\n",
    "array = read_file(filename)\n",
    "print_result(np.sum(array), np.min(array), np.max(array))"
   ]
  },
  {
   "cell_type": "markdown",
   "id": "dca8a907",
   "metadata": {},
   "source": [
    "## Последовательное чтение 2\n",
    "Последовательное считывание данных и нахождение суммы, минимального и максимального чисел. Реализуется стандартными средствами питона."
   ]
  },
  {
   "cell_type": "code",
   "execution_count": 7,
   "id": "04512529",
   "metadata": {},
   "outputs": [
    {
     "name": "stdout",
     "output_type": "stream",
     "text": [
      "Sum of elements: 1152916250510977556\n",
      "Min element: 4\n",
      "Max element: 4294967286\n",
      "CPU times: user 1min 52s, sys: 1.38 s, total: 1min 53s\n",
      "Wall time: 1min 53s\n"
     ]
    }
   ],
   "source": [
    "%%time\n",
    "array = read_file(filename)\n",
    "print_result(sum(array), min(array), max(array))"
   ]
  },
  {
   "cell_type": "markdown",
   "id": "f65ec009",
   "metadata": {},
   "source": [
    "## Последовательное чтение 3\n",
    "Последовательное считывание данных и нахождение суммы, минимального и максимального чисел. Реализуется cручками."
   ]
  },
  {
   "cell_type": "code",
   "execution_count": 8,
   "id": "bc69a0f2",
   "metadata": {},
   "outputs": [],
   "source": [
    "def aggregation(seq, acc=0, a_min=2**32, a_max=0):\n",
    "    for el in seq:\n",
    "        acc, a_min, a_max = acc+el , min(a_min, el), max(a_max, el)\n",
    "    return acc, a_min, a_max"
   ]
  },
  {
   "cell_type": "code",
   "execution_count": 9,
   "id": "6354f0f6",
   "metadata": {},
   "outputs": [
    {
     "name": "stdout",
     "output_type": "stream",
     "text": [
      "Sum of elements: 1152916250510977556\n",
      "Min element: 4\n",
      "Max element: 4294967286\n",
      "CPU times: user 3min 32s, sys: 233 ms, total: 3min 32s\n",
      "Wall time: 3min 32s\n"
     ]
    }
   ],
   "source": [
    "%%time\n",
    "array = read_file(filename)\n",
    "print_result(*aggregation(array))"
   ]
  },
  {
   "cell_type": "markdown",
   "id": "e8bd2654",
   "metadata": {},
   "source": [
    "# Паралельное чтение 1\n",
    "Для чтения используются memory map files. Для обработки используется пулл потоков и numpy функции"
   ]
  },
  {
   "cell_type": "code",
   "execution_count": 10,
   "id": "20804728",
   "metadata": {},
   "outputs": [],
   "source": [
    "from data_generation import read_mmap_file\n",
    "from multiprocessing.dummy import Pool as thread_pool\n",
    "from toolz import juxt"
   ]
  },
  {
   "cell_type": "code",
   "execution_count": 11,
   "id": "b6e414a6",
   "metadata": {},
   "outputs": [
    {
     "name": "stdout",
     "output_type": "stream",
     "text": [
      "Sum of elements: 1152916250510977556\n",
      "Min element: 4\n",
      "Max element: 4294967286\n",
      "CPU times: user 3.87 s, sys: 60.5 ms, total: 3.94 s\n",
      "Wall time: 543 ms\n"
     ]
    }
   ],
   "source": [
    "%%time\n",
    "chunked_arrays = np.array_split(read_mmap_file(size, filename), 8)\n",
    "result = np.array(thread_pool(8).map(juxt(np.sum, np.min, np.max), chunked_arrays))\n",
    "print_result(np.sum(result[:, 0]), np.min(result[:, 1]), np.max(result[:, 2]))"
   ]
  },
  {
   "cell_type": "markdown",
   "id": "180d0eac",
   "metadata": {},
   "source": [
    "## Паралельное чтение 2\n",
    "Для чтения используются memory map files. Для обработки используется пулл потоков и встроенные фунции"
   ]
  },
  {
   "cell_type": "code",
   "execution_count": 12,
   "id": "537a9162",
   "metadata": {},
   "outputs": [
    {
     "name": "stdout",
     "output_type": "stream",
     "text": [
      "Sum of elements: 1152916250510977556\n",
      "Min element: 4\n",
      "Max element: 4294967286\n",
      "CPU times: user 1min 44s, sys: 524 ms, total: 1min 45s\n",
      "Wall time: 1min 44s\n"
     ]
    }
   ],
   "source": [
    "%%time\n",
    "chunked_arrays = np.array_split(read_mmap_file(size, filename), 8)\n",
    "result = np.array(thread_pool(8).map(juxt(sum, min, max), chunked_arrays))\n",
    "print_result(sum(result[:, 0]), min(result[:, 1]), max(result[:, 2]))"
   ]
  },
  {
   "cell_type": "markdown",
   "id": "90f09043",
   "metadata": {},
   "source": [
    "## Паралельное чтение 3\n",
    "Для чтения используются memory map files. Для обработки используется пулл процессов и numpy функции"
   ]
  },
  {
   "cell_type": "code",
   "execution_count": 13,
   "id": "aaac838a",
   "metadata": {},
   "outputs": [],
   "source": [
    "from multiprocessing import Pool as process_pool"
   ]
  },
  {
   "cell_type": "code",
   "execution_count": 14,
   "id": "4d10b7c4",
   "metadata": {},
   "outputs": [
    {
     "name": "stdout",
     "output_type": "stream",
     "text": [
      "Sum of elements: 1152916250510977556\n",
      "Min element: 4\n",
      "Max element: 4294967286\n",
      "CPU times: user 883 ms, sys: 1.7 s, total: 2.58 s\n",
      "Wall time: 4.09 s\n"
     ]
    }
   ],
   "source": [
    "%%time\n",
    "chunked_arrays = np.array_split(read_mmap_file(size, filename), 8)\n",
    "result = np.array(process_pool(8).map(juxt(np.sum, np.min, np.max), chunked_arrays))\n",
    "print_result(np.sum(result[:, 0]), np.min(result[:, 1]), np.max(result[:, 2]))"
   ]
  },
  {
   "cell_type": "markdown",
   "id": "3c65b3e8",
   "metadata": {},
   "source": [
    "## Паралельное чтение 4\n",
    "Для чтения используются memory map files. Для обработки используется пулл процессов и встроенные фунции"
   ]
  },
  {
   "cell_type": "code",
   "execution_count": null,
   "id": "8d425f7a",
   "metadata": {},
   "outputs": [],
   "source": [
    "%%time\n",
    "chunked_arrays = np.array_split(read_mmap_file(size, filename), 8)\n",
    "result = np.array(process_pool(8).map(juxt(sum, min, max), chunked_arrays))\n",
    "print_result(sum(result[:, 0]), min(result[:, 1]), max(result[:, 2]))"
   ]
  },
  {
   "cell_type": "markdown",
   "id": "da4bb3db",
   "metadata": {},
   "source": [
    "Наилучший результат показало решение с memory map files, пулом потоков и методами numpy. 543 ms\\\n",
    "Для последовательной обработки лучше всего показала себя обработка numpy функциями 2.68 s"
   ]
  },
  {
   "cell_type": "code",
   "execution_count": null,
   "id": "09b62ce7",
   "metadata": {},
   "outputs": [],
   "source": []
  }
 ],
 "metadata": {
  "kernelspec": {
   "display_name": "Python 3",
   "language": "python",
   "name": "python3"
  },
  "language_info": {
   "codemirror_mode": {
    "name": "ipython",
    "version": 3
   },
   "file_extension": ".py",
   "mimetype": "text/x-python",
   "name": "python",
   "nbconvert_exporter": "python",
   "pygments_lexer": "ipython3",
   "version": "3.9.0"
  }
 },
 "nbformat": 4,
 "nbformat_minor": 5
}
