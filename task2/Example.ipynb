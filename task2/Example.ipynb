{
 "cells": [
  {
   "cell_type": "markdown",
   "id": "86996683",
   "metadata": {},
   "source": [
    "# Task-2\n",
    "Нужно сгенерировать файл, содержащий 2000 48-битных случайных целых чисел, каждое число на отдельной строке.\n",
    "\n",
    "Посчитать, какое суммарное количество простых множителей присутствует при факторизации всех чисел. Например, пусть всего два числа: 6 и 8. 6 = 2 * 3, 8 = 2 * 2 * 2. Ответ 5.\n",
    "\n",
    "Реализовать подсчет\n",
    "\n",
    "- простым последовательным алгоритмом\n",
    "- многопоточно, с использованием примитивов синхронизации\n",
    "- с помощью Akka (или аналога)\n",
    "- c помощью RxJava (или аналога)\n",
    "\n",
    "Измерить время выполнения для каждого случая. Использовать уровень параллельности в соответствии с числом ядер вашего CPU."
   ]
  },
  {
   "cell_type": "code",
   "execution_count": 1,
   "id": "b688f772",
   "metadata": {},
   "outputs": [],
   "source": [
    "filename = 'local_numbers.txt'\n",
    "count = 2000"
   ]
  },
  {
   "cell_type": "markdown",
   "id": "da041c0c",
   "metadata": {},
   "source": [
    "## Генерация данных\n",
    "В файл записывпается массив беззнаковых чисел. Навазние файла и его количество чител задается как аргуемнты функции. "
   ]
  },
  {
   "cell_type": "code",
   "execution_count": 2,
   "id": "b3d9652a",
   "metadata": {},
   "outputs": [],
   "source": [
    "from data_generation import generate_file"
   ]
  },
  {
   "cell_type": "code",
   "execution_count": 3,
   "id": "07acc3a9",
   "metadata": {},
   "outputs": [],
   "source": [
    "generate_file(count, filename)"
   ]
  },
  {
   "cell_type": "markdown",
   "id": "eb86d753",
   "metadata": {},
   "source": [
    "## Посдеовательная факторизация\n",
    "\n",
    "Для подсчета делителей используется функция factorint"
   ]
  },
  {
   "cell_type": "code",
   "execution_count": 4,
   "id": "4f581d38",
   "metadata": {},
   "outputs": [],
   "source": [
    "import numpy as np\n",
    "from data_generation import read_file\n",
    "from sympy.ntheory import factorint\n",
    "from toolz import compose"
   ]
  },
  {
   "cell_type": "code",
   "execution_count": 5,
   "id": "4441ed3d",
   "metadata": {},
   "outputs": [],
   "source": [
    "def count_factors(x: int) -> int:\n",
    "    return sum(factorint(x).values())"
   ]
  },
  {
   "cell_type": "code",
   "execution_count": 6,
   "id": "ebdc1444",
   "metadata": {},
   "outputs": [
    {
     "name": "stdout",
     "output_type": "stream",
     "text": [
      "1.65 s ± 72.9 ms per loop (mean ± std. dev. of 7 runs, 1 loop each)\n"
     ]
    }
   ],
   "source": [
    "%%timeit 10\n",
    "sum(np.vectorize(count_factors)(read_file(filename)))"
   ]
  },
  {
   "cell_type": "markdown",
   "id": "9461c561",
   "metadata": {},
   "source": [
    "## Многопоточная факторизация"
   ]
  },
  {
   "cell_type": "code",
   "execution_count": 7,
   "id": "353e572d",
   "metadata": {},
   "outputs": [],
   "source": [
    "from multiprocessing.dummy import Pool as thread_pool"
   ]
  },
  {
   "cell_type": "code",
   "execution_count": 8,
   "id": "25fd71f5",
   "metadata": {},
   "outputs": [
    {
     "name": "stdout",
     "output_type": "stream",
     "text": [
      "1.79 s ± 72.7 ms per loop (mean ± std. dev. of 7 runs, 1 loop each)\n"
     ]
    }
   ],
   "source": [
    "%%timeit 10\n",
    "chunked_arrays = np.array_split(read_file(filename), 8)\n",
    "sum(sum(thread_pool(8).map(np.vectorize(count_factors), chunked_arrays)))"
   ]
  },
  {
   "cell_type": "markdown",
   "id": "a51f3659",
   "metadata": {},
   "source": [
    "## Многопроцессорная факторизация"
   ]
  },
  {
   "cell_type": "code",
   "execution_count": 9,
   "id": "84ae66b2",
   "metadata": {},
   "outputs": [],
   "source": [
    "from multiprocessing import Pool as process_pool"
   ]
  },
  {
   "cell_type": "code",
   "execution_count": 10,
   "id": "32a6a3ce",
   "metadata": {},
   "outputs": [
    {
     "name": "stdout",
     "output_type": "stream",
     "text": [
      "534 ms ± 7.01 ms per loop (mean ± std. dev. of 7 runs, 1 loop each)\n"
     ]
    }
   ],
   "source": [
    "%%timeit 10\n",
    "chunked_arrays = np.array_split(read_file(filename), 8)\n",
    "sum(sum(process_pool(8).map(np.vectorize(count_factors), chunked_arrays)))"
   ]
  },
  {
   "cell_type": "markdown",
   "id": "eceab481",
   "metadata": {},
   "source": [
    "## Pykka факторизация 1\n",
    "Два актора: один подсчитывает количество делителей у одного числа, второй суммирует результаты."
   ]
  },
  {
   "cell_type": "code",
   "execution_count": 11,
   "id": "daf655fb",
   "metadata": {},
   "outputs": [],
   "source": [
    "import pykka\n",
    "\n",
    "class Counter(pykka.ThreadingActor):\n",
    "    def __init__(self):\n",
    "        super().__init__()\n",
    "        self.count_divs = 0\n",
    "    \n",
    "    def count(self, x):\n",
    "        self.count_divs += np.sum(x)\n",
    "\n",
    "class Factoriser(pykka.ThreadingActor):\n",
    "    def __init__(self, counter: Counter):\n",
    "        super().__init__()\n",
    "        self.counter = counter\n",
    "\n",
    "    def factorise(self, x: np.ndarray) -> np.ndarray:\n",
    "        self.counter.count(np.vectorize(count_factors)(x))"
   ]
  },
  {
   "cell_type": "code",
   "execution_count": 12,
   "id": "485e53ad",
   "metadata": {},
   "outputs": [
    {
     "name": "stdout",
     "output_type": "stream",
     "text": [
      "1.79 s ± 193 ms per loop (mean ± std. dev. of 7 runs, 1 loop each)\n"
     ]
    }
   ],
   "source": [
    "%%timeit 10\n",
    "chunked_arrays = np.array_split(read_file(filename), 8)\n",
    "counter_ref = Counter.start().proxy()\n",
    "factorisers = [Factoriser.start(counter_ref).proxy().factorise(x) for x in chunked_arrays]\n",
    "pykka.get_all(factorisers)\n",
    "result = counter_ref.count_divs.get()\n",
    "_ = pykka.ActorRegistry.stop_all()\n",
    "result"
   ]
  },
  {
   "cell_type": "markdown",
   "id": "0c7e184e",
   "metadata": {},
   "source": [
    "## Pykka факторизация 1\n",
    "Один актор который  считает количество делителей у числа"
   ]
  },
  {
   "cell_type": "code",
   "execution_count": 13,
   "id": "56e581f6",
   "metadata": {},
   "outputs": [
    {
     "name": "stdout",
     "output_type": "stream",
     "text": [
      "1.58 s ± 125 ms per loop (mean ± std. dev. of 7 runs, 1 loop each)\n"
     ]
    }
   ],
   "source": [
    "%%timeit 10\n",
    "class SimpleFactoriser(pykka.ThreadingActor):\n",
    "    def on_receive(self, x: np.ndarray) -> np.ndarray:\n",
    "        return np.sum(np.vectorize(count_factors)(x))\n",
    "\n",
    "chunked_arrays = np.array_split(read_file(filename), 8)\n",
    "result = sum([SimpleFactoriser.start().ask(x) for x in chunked_arrays])\n",
    "_ = pykka.ActorRegistry.stop_all()\n",
    "result"
   ]
  },
  {
   "cell_type": "markdown",
   "id": "111418e3",
   "metadata": {},
   "source": [
    "## RX факторизация"
   ]
  },
  {
   "cell_type": "code",
   "execution_count": 14,
   "id": "4632455b",
   "metadata": {},
   "outputs": [],
   "source": [
    "import rx\n",
    "from rx import operators as ops"
   ]
  },
  {
   "cell_type": "code",
   "execution_count": 15,
   "id": "8bb49d01",
   "metadata": {},
   "outputs": [
    {
     "name": "stdout",
     "output_type": "stream",
     "text": [
      "Received 8978\n",
      "Received 8978\n",
      "Received 8978\n",
      "Received 8978\n",
      "Received 8978\n",
      "Received 8978\n",
      "Received 8978\n",
      "Received 8978\n",
      "1.65 s ± 114 ms per loop (mean ± std. dev. of 7 runs, 1 loop each)\n"
     ]
    }
   ],
   "source": [
    "%%timeit 10\n",
    "source = rx.of(*read_file(filename))\n",
    "composed = source.pipe(\n",
    "    ops.map(count_factors),\n",
    "    ops.sum()\n",
    ")\n",
    "composed.subscribe(lambda value: print(f\"Received {value}\"))"
   ]
  },
  {
   "cell_type": "markdown",
   "id": "cf52aef1",
   "metadata": {},
   "source": [
    "Наилучший результат получен у многопроцессовой реализации 534ms. Худший результат показала многопоточная реализация: 1.79 s, скорре всего связано с накладными расходами на потоки и работой GIL. \n",
    "\n",
    "Так же стоит упомянуть, что у rx реализации не были использованы все преимущества, например реализация чтений с помощью генератора и построения пайплайна напрямую из файла. В текущей реализации происходит полное чтение файла и дальнейшая работа с полной выгрузкой."
   ]
  },
  {
   "cell_type": "code",
   "execution_count": null,
   "id": "4792de47",
   "metadata": {},
   "outputs": [],
   "source": []
  }
 ],
 "metadata": {
  "kernelspec": {
   "display_name": "Python 3",
   "language": "python",
   "name": "python3"
  },
  "language_info": {
   "codemirror_mode": {
    "name": "ipython",
    "version": 3
   },
   "file_extension": ".py",
   "mimetype": "text/x-python",
   "name": "python",
   "nbconvert_exporter": "python",
   "pygments_lexer": "ipython3",
   "version": "3.9.0"
  }
 },
 "nbformat": 4,
 "nbformat_minor": 5
}
