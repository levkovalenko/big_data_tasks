{
 "cells": [
  {
   "cell_type": "code",
   "execution_count": 1,
   "id": "7d892a26",
   "metadata": {},
   "outputs": [],
   "source": [
    "import pyspark\n",
    "import os\n",
    "from itertools import chain\n",
    "\n",
    "from pyspark import SparkContext\n",
    "from pyspark.sql import SparkSession\n",
    "import pyspark.sql.functions as F\n",
    "os.environ[\"PYSPARK_PYTHON\"]=\"python3\"\n",
    "\n",
    "sc = SparkContext(master=\"local[*]\", appName= \"readJSON\")\n",
    "spark = SparkSession \\\n",
    "    .builder \\\n",
    "    .appName(\"PySpark\") \\\n",
    "    .getOrCreate()"
   ]
  },
  {
   "cell_type": "code",
   "execution_count": 2,
   "id": "fcc1f880",
   "metadata": {},
   "outputs": [],
   "source": [
    "df = spark.read.json(\"gp.jsonl\")\n",
    "rdd = spark.read.json(\"gp.jsonl\").rdd"
   ]
  },
  {
   "cell_type": "markdown",
   "id": "fbecb2d3",
   "metadata": {},
   "source": [
    "# Подсчет колличества приложений автора"
   ]
  },
  {
   "cell_type": "code",
   "execution_count": 3,
   "id": "11612c4b",
   "metadata": {},
   "outputs": [
    {
     "name": "stdout",
     "output_type": "stream",
     "text": [
      "CPU times: user 33.5 ms, sys: 13.7 ms, total: 47.3 ms\n",
      "Wall time: 2.17 s\n"
     ]
    }
   ],
   "source": [
    "%%time\n",
    "result = rdd.map(lambda x: (x.author, x.author)).groupByKey().mapValues(lambda x: len(x)).sortBy(lambda x: x[1], ascending=False).collect()\n"
   ]
  },
  {
   "cell_type": "code",
   "execution_count": 4,
   "id": "2c99502e",
   "metadata": {},
   "outputs": [
    {
     "name": "stdout",
     "output_type": "stream",
     "text": [
      "CPU times: user 22 ms, sys: 436 µs, total: 22.4 ms\n",
      "Wall time: 727 ms\n"
     ]
    }
   ],
   "source": [
    "%%time\n",
    "result = rdd.map(lambda x: (x.author, x.author)).groupByKey().mapValues(lambda x: len(x)).collect()\n",
    "# без сортировки"
   ]
  },
  {
   "cell_type": "code",
   "execution_count": 5,
   "id": "a5d3975a",
   "metadata": {},
   "outputs": [
    {
     "name": "stdout",
     "output_type": "stream",
     "text": [
      "+--------------------+-----+\n",
      "|              author|count|\n",
      "+--------------------+-----+\n",
      "|         iniCall.com|   18|\n",
      "|              ZT.art|   13|\n",
      "|CrowdCompass by C...|   13|\n",
      "|Subsplash Consulting|   11|\n",
      "|      +HOME by Ateam|   10|\n",
      "|Difference Games LLC|    9|\n",
      "|      Big Fish Games|    9|\n",
      "|            iConnect|    9|\n",
      "|          MobilePlus|    8|\n",
      "|         Games2Jolly|    8|\n",
      "|           Dict.land|    8|\n",
      "|        Magzter Inc.|    8|\n",
      "|GO Keyboard Dev Team|    8|\n",
      "|       Bede Products|    7|\n",
      "| SK techx for themes|    7|\n",
      "|Glosbe Parfieniuk...|    7|\n",
      "|         MobileGames|    7|\n",
      "|         eChurch App|    7|\n",
      "|         Nobex Radio|    7|\n",
      "|         Goodia Inc.|    6|\n",
      "+--------------------+-----+\n",
      "only showing top 20 rows\n",
      "\n",
      "CPU times: user 6.14 ms, sys: 0 ns, total: 6.14 ms\n",
      "Wall time: 2.48 s\n"
     ]
    }
   ],
   "source": [
    "%%time\n",
    "result = df.groupBy(F.col('author')).count().sort('count', ascending=False).show()"
   ]
  },
  {
   "cell_type": "code",
   "execution_count": 6,
   "id": "829c5a5d",
   "metadata": {},
   "outputs": [
    {
     "name": "stdout",
     "output_type": "stream",
     "text": [
      "+--------------------+-----+\n",
      "|              author|count|\n",
      "+--------------------+-----+\n",
      "|           Peppercon|    1|\n",
      "|        LightBringer|    1|\n",
      "|           coulibaly|    1|\n",
      "|       YDigitalMedia|    1|\n",
      "|Association of Ch...|    1|\n",
      "| Android Apps Market|    1|\n",
      "|          Kraft&Werk|    1|\n",
      "|         JBR Techies|    1|\n",
      "|          97 Display|    2|\n",
      "|Axiata Group Berh...|    1|\n",
      "|          Foyo Games|    1|\n",
      "|         Yippee Labs|    1|\n",
      "|        Gleb Kolyada|    1|\n",
      "|             bokonon|    1|\n",
      "|    App iStudio, LLC|    1|\n",
      "|        Join Visions|    1|\n",
      "|       rev developer|    1|\n",
      "|       Streamography|    1|\n",
      "|Trickster Cards, ...|    1|\n",
      "|PiXiL Internation...|    1|\n",
      "+--------------------+-----+\n",
      "only showing top 20 rows\n",
      "\n",
      "CPU times: user 3.06 ms, sys: 336 µs, total: 3.4 ms\n",
      "Wall time: 404 ms\n"
     ]
    }
   ],
   "source": [
    "%%time\n",
    "# без сортировки\n",
    "result = df.groupBy(F.col('author')).count().show()"
   ]
  },
  {
   "cell_type": "markdown",
   "id": "22202884",
   "metadata": {},
   "source": [
    "# Распределение игр по жанрам"
   ]
  },
  {
   "cell_type": "code",
   "execution_count": 7,
   "id": "7ecf7028",
   "metadata": {},
   "outputs": [
    {
     "name": "stdout",
     "output_type": "stream",
     "text": [
      "CPU times: user 27.9 ms, sys: 7.07 ms, total: 35 ms\n",
      "Wall time: 1.17 s\n"
     ]
    }
   ],
   "source": [
    "%%time\n",
    "result = rdd.map(lambda x: (x.genre, x.genre)).groupByKey().mapValues(lambda x: len(x)).sortBy(lambda x: x[1], ascending=False).collect()\n"
   ]
  },
  {
   "cell_type": "code",
   "execution_count": 8,
   "id": "79da79fd",
   "metadata": {},
   "outputs": [
    {
     "name": "stdout",
     "output_type": "stream",
     "text": [
      "CPU times: user 14.8 ms, sys: 1.85 ms, total: 16.7 ms\n",
      "Wall time: 682 ms\n"
     ]
    }
   ],
   "source": [
    "%%time\n",
    "result = rdd.map(lambda x: (x.genre, x.genre)).groupByKey().mapValues(lambda x: len(x)).collect()\n",
    "# без сортировки"
   ]
  },
  {
   "cell_type": "code",
   "execution_count": 9,
   "id": "eb289cce",
   "metadata": {},
   "outputs": [
    {
     "name": "stdout",
     "output_type": "stream",
     "text": [
      "+-----------------+-----+\n",
      "|            genre|count|\n",
      "+-----------------+-----+\n",
      "|    Entertainment| 1640|\n",
      "|        Education| 1559|\n",
      "|  Personalisation| 1326|\n",
      "|            Tools| 1274|\n",
      "|        Lifestyle| 1230|\n",
      "|    Music & Audio| 1078|\n",
      "|Books & Reference| 1053|\n",
      "|         Business|  956|\n",
      "|           Puzzle|  832|\n",
      "|           Casual|  734|\n",
      "|           Arcade|  690|\n",
      "|   Travel & Local|  604|\n",
      "| Health & Fitness|  578|\n",
      "|     Productivity|  547|\n",
      "|      Photography|  517|\n",
      "|           Sports|  483|\n",
      "| News & Magazines|  461|\n",
      "|    Communication|  372|\n",
      "|           Social|  361|\n",
      "|           Action|  347|\n",
      "+-----------------+-----+\n",
      "only showing top 20 rows\n",
      "\n",
      "CPU times: user 3.33 ms, sys: 2.56 ms, total: 5.89 ms\n",
      "Wall time: 819 ms\n"
     ]
    }
   ],
   "source": [
    "%%time\n",
    "result = df.groupBy(F.col('genre')).count().sort('count', ascending=False).show()"
   ]
  },
  {
   "cell_type": "code",
   "execution_count": 10,
   "id": "7926068f",
   "metadata": {},
   "outputs": [
    {
     "name": "stdout",
     "output_type": "stream",
     "text": [
      "+----------------+-----+\n",
      "|           genre|count|\n",
      "+----------------+-----+\n",
      "|   Music & Audio| 1078|\n",
      "|       Education| 1559|\n",
      "|          Trivia|  153|\n",
      "| Auto & Vehicles|   39|\n",
      "|   Entertainment| 1640|\n",
      "|       Adventure|  278|\n",
      "|          Arcade|  690|\n",
      "|          Sports|  483|\n",
      "|  Travel & Local|  604|\n",
      "|    Food & Drink|  121|\n",
      "|    Role Playing|   61|\n",
      "|         Finance|  284|\n",
      "|          Racing|  146|\n",
      "|           Tools| 1274|\n",
      "|     Educational|  288|\n",
      "|          Comics|   50|\n",
      "|          Social|  361|\n",
      "|Libraries & Demo|   69|\n",
      "|        Shopping|  292|\n",
      "|Health & Fitness|  578|\n",
      "+----------------+-----+\n",
      "only showing top 20 rows\n",
      "\n",
      "CPU times: user 1.56 ms, sys: 2.24 ms, total: 3.8 ms\n",
      "Wall time: 472 ms\n"
     ]
    }
   ],
   "source": [
    "%%time\n",
    "# без сортировки\n",
    "result = df.groupBy(F.col('genre')).count().show()"
   ]
  },
  {
   "cell_type": "markdown",
   "id": "2d7d3118",
   "metadata": {},
   "source": [
    "# Количество ревью на каждый жанр"
   ]
  },
  {
   "cell_type": "code",
   "execution_count": 11,
   "id": "56c5f5df",
   "metadata": {},
   "outputs": [
    {
     "name": "stdout",
     "output_type": "stream",
     "text": [
      "CPU times: user 40 ms, sys: 5.62 ms, total: 45.6 ms\n",
      "Wall time: 837 ms\n"
     ]
    }
   ],
   "source": [
    "%%time\n",
    "result = rdd.map(lambda x: (x.genre, int('0'+x.review_number.replace(',', '')))).groupByKey().mapValues(sum).sortBy(lambda x: x[1], ascending=False).collect()\n"
   ]
  },
  {
   "cell_type": "code",
   "execution_count": 12,
   "id": "e980249d",
   "metadata": {},
   "outputs": [
    {
     "name": "stdout",
     "output_type": "stream",
     "text": [
      "CPU times: user 19.1 ms, sys: 1.67 ms, total: 20.8 ms\n",
      "Wall time: 549 ms\n"
     ]
    }
   ],
   "source": [
    "%%time\n",
    "# без сортировки\n",
    "result = rdd.map(lambda x: (x.genre, int('0'+x.review_number.replace(',', '')))).groupByKey().mapValues(sum).collect()\n"
   ]
  },
  {
   "cell_type": "code",
   "execution_count": 13,
   "id": "e4ec7c46",
   "metadata": {},
   "outputs": [
    {
     "name": "stdout",
     "output_type": "stream",
     "text": [
      "+--------------------+------------------+\n",
      "|               genre|sum(review_number)|\n",
      "+--------------------+------------------+\n",
      "|               Tools|        1.042381E7|\n",
      "|     Personalisation|         6050071.0|\n",
      "|          Simulation|         2764567.0|\n",
      "|       Entertainment|         2404774.0|\n",
      "|   Books & Reference|          987578.0|\n",
      "|              Casual|          885296.0|\n",
      "|        Role Playing|          817249.0|\n",
      "|           Lifestyle|          723174.0|\n",
      "|              Sports|          709586.0|\n",
      "|              Puzzle|          673517.0|\n",
      "|              Action|          669793.0|\n",
      "|              Arcade|          649696.0|\n",
      "|            Strategy|          637511.0|\n",
      "|    Health & Fitness|          474781.0|\n",
      "|                Word|          436084.0|\n",
      "|             Weather|          382491.0|\n",
      "|Video Players & E...|          368956.0|\n",
      "|           Education|          354611.0|\n",
      "|       Music & Audio|          333168.0|\n",
      "|             Finance|          329823.0|\n",
      "+--------------------+------------------+\n",
      "only showing top 20 rows\n",
      "\n",
      "CPU times: user 11.5 ms, sys: 0 ns, total: 11.5 ms\n",
      "Wall time: 1.29 s\n"
     ]
    }
   ],
   "source": [
    "%%time\n",
    "result = df.select(F.col('genre'),('0'+F.regexp_replace('review_number', ',', '')).alias('review_number')).fillna(0).groupBy('genre').sum().sort('sum(review_number)', ascending=False)\n",
    "result.show()"
   ]
  },
  {
   "cell_type": "code",
   "execution_count": 14,
   "id": "5940b1b8",
   "metadata": {},
   "outputs": [
    {
     "name": "stdout",
     "output_type": "stream",
     "text": [
      "+----------------+------------------+\n",
      "|           genre|sum(review_number)|\n",
      "+----------------+------------------+\n",
      "|   Music & Audio|          333168.0|\n",
      "|       Education|          354611.0|\n",
      "|          Trivia|           25963.0|\n",
      "| Auto & Vehicles|            2572.0|\n",
      "|   Entertainment|         2404774.0|\n",
      "|       Adventure|          219124.0|\n",
      "|          Arcade|          649696.0|\n",
      "|          Sports|          709586.0|\n",
      "|  Travel & Local|           41345.0|\n",
      "|    Food & Drink|           12604.0|\n",
      "|    Role Playing|          817249.0|\n",
      "|         Finance|          329823.0|\n",
      "|          Racing|          267956.0|\n",
      "|           Tools|        1.042381E7|\n",
      "|     Educational|          140062.0|\n",
      "|          Comics|           62308.0|\n",
      "|          Social|          205132.0|\n",
      "|Libraries & Demo|            2394.0|\n",
      "|        Shopping|           66382.0|\n",
      "|Health & Fitness|          474781.0|\n",
      "+----------------+------------------+\n",
      "only showing top 20 rows\n",
      "\n",
      "CPU times: user 7.72 ms, sys: 2.4 ms, total: 10.1 ms\n",
      "Wall time: 669 ms\n"
     ]
    }
   ],
   "source": [
    "%%time\n",
    "# без сортировки\n",
    "result = df.select(F.col('genre'),('0'+F.regexp_replace('review_number', ',', '')).alias('review_number')).fillna(0).groupBy('genre').sum()\n",
    "result.show()"
   ]
  },
  {
   "cell_type": "markdown",
   "id": "0553f068",
   "metadata": {},
   "source": [
    "## Средняя оценка жанра"
   ]
  },
  {
   "cell_type": "code",
   "execution_count": 15,
   "id": "74b7eb98",
   "metadata": {},
   "outputs": [
    {
     "name": "stdout",
     "output_type": "stream",
     "text": [
      "CPU times: user 42.5 ms, sys: 16.5 ms, total: 59 ms\n",
      "Wall time: 993 ms\n"
     ]
    }
   ],
   "source": [
    "%%time\n",
    "result = rdd.map(lambda x: (x.genre, float(\"0\" + x.rating_value))).groupByKey().mapValues(lambda x: sum(x)/len(x)).sortBy(lambda x: x[1], ascending=False).collect()"
   ]
  },
  {
   "cell_type": "code",
   "execution_count": 16,
   "id": "831a065d",
   "metadata": {},
   "outputs": [
    {
     "name": "stdout",
     "output_type": "stream",
     "text": [
      "CPU times: user 9.59 ms, sys: 14.6 ms, total: 24.2 ms\n",
      "Wall time: 643 ms\n"
     ]
    }
   ],
   "source": [
    "%%time\n",
    "# без сортировки\n",
    "result = rdd.map(lambda x: (x.genre, float(\"0\" + x.rating_value))).groupByKey().mapValues(lambda x: sum(x)/len(x)).collect()"
   ]
  },
  {
   "cell_type": "code",
   "execution_count": 17,
   "id": "f82c640b",
   "metadata": {},
   "outputs": [
    {
     "name": "stdout",
     "output_type": "stream",
     "text": [
      "+--------------------+------------------+\n",
      "|               genre| avg(rating_value)|\n",
      "+--------------------+------------------+\n",
      "|              Dating| 4.022222222222222|\n",
      "|                    |               3.8|\n",
      "|              Comics|              3.71|\n",
      "|            Strategy| 3.702597402597403|\n",
      "|              Arcade| 3.654927536231884|\n",
      "|              Action|3.6348703170028824|\n",
      "|                Card| 3.620879120879121|\n",
      "|Video Players & E...| 3.596482412060301|\n",
      "|        Role Playing|3.5885245901639347|\n",
      "|              Casino|3.5870967741935487|\n",
      "|              Racing| 3.565068493150685|\n",
      "|              Social| 3.558725761772853|\n",
      "|               Music|3.5555555555555562|\n",
      "|              Trivia|3.5503267973856203|\n",
      "|   Maps & Navigation| 3.539153439153439|\n",
      "|          Simulation|3.5203846153846152|\n",
      "|     Auto & Vehicles| 3.512820512820512|\n",
      "|              Casual| 3.480517711171662|\n",
      "|              Puzzle|3.4775240384615387|\n",
      "|             Finance| 3.464788732394366|\n",
      "+--------------------+------------------+\n",
      "only showing top 20 rows\n",
      "\n",
      "CPU times: user 11.6 ms, sys: 0 ns, total: 11.6 ms\n",
      "Wall time: 821 ms\n"
     ]
    }
   ],
   "source": [
    "%%time\n",
    "result = df.select(F.col('genre'),('0'+F.col('rating_value')).alias('rating_value')).fillna(0).groupBy('genre').agg(F.mean('rating_value')).sort('avg(rating_value)', ascending=False)\n",
    "result.show()"
   ]
  },
  {
   "cell_type": "code",
   "execution_count": 18,
   "id": "2e2456dc",
   "metadata": {},
   "outputs": [
    {
     "name": "stdout",
     "output_type": "stream",
     "text": [
      "+----------------+------------------+\n",
      "|           genre| avg(rating_value)|\n",
      "+----------------+------------------+\n",
      "|   Music & Audio| 3.291372912801484|\n",
      "|       Education| 3.289608723540731|\n",
      "|          Trivia|3.5503267973856203|\n",
      "| Auto & Vehicles| 3.512820512820512|\n",
      "|   Entertainment| 3.238109756097561|\n",
      "|       Adventure|3.3625899280575537|\n",
      "|          Arcade| 3.654927536231884|\n",
      "|          Sports|3.3360248447204968|\n",
      "|  Travel & Local|3.1806291390728485|\n",
      "|    Food & Drink|2.5132231404958674|\n",
      "|    Role Playing|3.5885245901639347|\n",
      "|         Finance| 3.464788732394366|\n",
      "|          Racing| 3.565068493150685|\n",
      "|           Tools|3.4037676609105176|\n",
      "|     Educational| 3.278819444444445|\n",
      "|          Comics|              3.71|\n",
      "|          Social| 3.558725761772853|\n",
      "|Libraries & Demo| 3.391304347826087|\n",
      "|        Shopping| 3.344863013698631|\n",
      "|Health & Fitness| 3.030622837370242|\n",
      "+----------------+------------------+\n",
      "only showing top 20 rows\n",
      "\n",
      "CPU times: user 5.52 ms, sys: 894 µs, total: 6.42 ms\n",
      "Wall time: 406 ms\n"
     ]
    }
   ],
   "source": [
    "%%time\n",
    "#без сортировки\n",
    "result = df.select(F.col('genre'),('0'+F.col('rating_value')).alias('rating_value')).fillna(0).groupBy('genre').agg(F.mean('rating_value'))\n",
    "result.show()"
   ]
  },
  {
   "cell_type": "markdown",
   "id": "6c8fd74f",
   "metadata": {},
   "source": [
    "# Отношение количества ревью к количеству скачиваний"
   ]
  },
  {
   "cell_type": "code",
   "execution_count": 19,
   "id": "d3d272b9",
   "metadata": {},
   "outputs": [],
   "source": [
    "downloads = {'': 1,\n",
    " '1 - 5': 5,\n",
    " '1,000 - 5,000': 5000,\n",
    " '1,000,000 - 5,000,000': 5000000,\n",
    " '10 - 50': 50,\n",
    " '10,000 - 50,000': 50000,\n",
    " '10,000,000 - 50,000,000': 50000000,\n",
    " '100 - 500': 500,\n",
    " '100,000 - 500,000': 500000,\n",
    " '100,000,000 - 500,000,000': 500000000,\n",
    " '5 - 10': 10,\n",
    " '5,000 - 10,000': 10000,\n",
    " '5,000,000 - 10,000,000': 10000000,\n",
    " '50 - 100': 100,\n",
    " '50,000 - 100,000': 100000,\n",
    " '500 - 1,000': 1000,\n",
    " '500,000 - 1,000,000': 1000000}"
   ]
  },
  {
   "cell_type": "code",
   "execution_count": 20,
   "id": "abee83aa",
   "metadata": {},
   "outputs": [
    {
     "name": "stdout",
     "output_type": "stream",
     "text": [
      "CPU times: user 48.7 ms, sys: 9.88 ms, total: 58.6 ms\n",
      "Wall time: 1.11 s\n"
     ]
    }
   ],
   "source": [
    "%%time\n",
    "result = rdd.map(lambda x: (x.item_name, int('0'+x.review_number.replace(',', ''))/downloads[x.downloads])).sortBy(lambda x: x[1], ascending=False).collect()"
   ]
  },
  {
   "cell_type": "code",
   "execution_count": 21,
   "id": "b1a6bc07",
   "metadata": {},
   "outputs": [
    {
     "name": "stdout",
     "output_type": "stream",
     "text": [
      "CPU times: user 13.3 ms, sys: 4.72 ms, total: 18 ms\n",
      "Wall time: 349 ms\n"
     ]
    }
   ],
   "source": [
    "%%time\n",
    "# без сортировки\n",
    "result = rdd.map(lambda x: (x.item_name, int('0'+x.review_number.replace(',', ''))/downloads[x.downloads])).collect()"
   ]
  },
  {
   "cell_type": "code",
   "execution_count": 22,
   "id": "d478ac13",
   "metadata": {},
   "outputs": [
    {
     "name": "stdout",
     "output_type": "stream",
     "text": [
      "+--------------------+------+\n",
      "|           item_name|result|\n",
      "+--------------------+------+\n",
      "|Cheat for Clash R...|  21.0|\n",
      "|              Soccer|   9.0|\n",
      "|Battery Saver LED...|   6.0|\n",
      "|      CashVideo Coin|   5.0|\n",
      "|You-cam: Beauty m...|   3.0|\n",
      "|     Modi Yuva Yojna|   3.0|\n",
      "|        Dance Videos|   2.0|\n",
      "|English Pronuncia...|   2.0|\n",
      "| Drawing Dragon Ball|   2.0|\n",
      "|          Fala Dercy|   2.0|\n",
      "|Guide Super Mario...|   2.0|\n",
      "|BIPOLAR SUNSHINE NEW|   2.0|\n",
      "|Evergreen Hits Co...|   2.0|\n",
      "|Free DragonSoul G...|   2.0|\n",
      "|Coloring Book Of ...|   1.0|\n",
      "|Free Novel - Crus...|   1.0|\n",
      "|      DSLR HD Camera|   1.0|\n",
      "|      The Diet Plans|   1.0|\n",
      "|  Flash Call-SMS pro|   1.0|\n",
      "|Best Design Roman...|   1.0|\n",
      "+--------------------+------+\n",
      "only showing top 20 rows\n",
      "\n",
      "CPU times: user 19.4 ms, sys: 1.81 ms, total: 21.2 ms\n",
      "Wall time: 313 ms\n"
     ]
    }
   ],
   "source": [
    "%%time\n",
    "d_mapping = F.create_map([F.lit(x) for x in chain(*downloads.items())])\n",
    "df.select(F.col('item_name'),(('0'+F.regexp_replace('review_number', ',', ''))/(d_mapping[df['downloads']])).alias('result')).sort('result', ascending=False).show()"
   ]
  },
  {
   "cell_type": "code",
   "execution_count": 23,
   "id": "f7d9dcb2",
   "metadata": {},
   "outputs": [
    {
     "name": "stdout",
     "output_type": "stream",
     "text": [
      "+--------------------+---------+\n",
      "|           item_name|   result|\n",
      "+--------------------+---------+\n",
      "|กลอน กำลังใจ by ค...|   0.0114|\n",
      "|Cute Gift Dragon-...|  0.00466|\n",
      "|Ultimate Screen B...|    0.002|\n",
      "|    Connect Diamonds|  0.00222|\n",
      "|  أذكار الصباح متجدد|    0.012|\n",
      "|  Monster Hill Climb|     0.04|\n",
      "|AutoRespons™ - Dr...|    0.014|\n",
      "|               Botad|     null|\n",
      "|Skin Care Tips in...|    0.001|\n",
      "|SmartCircle Displ...|    0.001|\n",
      "|   Islamic Ringtones|  9.42E-4|\n",
      "|Relationship Tips...|     null|\n",
      "|قرأن كامل عبد الب...|    0.004|\n",
      "|              CAMERA|  0.00438|\n",
      "|collage pip perfe...|     null|\n",
      "|Wallpapers Dakar ...|    0.001|\n",
      "|Fideo: Music Vide...|0.0065574|\n",
      "|         94 To Score|     null|\n",
      "| Soccer Online Stars|  0.00593|\n",
      "|Telugu Immortal S...|     null|\n",
      "+--------------------+---------+\n",
      "only showing top 20 rows\n",
      "\n",
      "CPU times: user 10.6 ms, sys: 8.64 ms, total: 19.3 ms\n",
      "Wall time: 194 ms\n"
     ]
    }
   ],
   "source": [
    "%%time\n",
    "# без сортировки\n",
    "d_mapping = F.create_map([F.lit(x) for x in chain(*downloads.items())])\n",
    "df.select(F.col('item_name'),(('0'+F.regexp_replace('review_number', ',', ''))/(d_mapping[df['downloads']])).alias('result')).show()"
   ]
  },
  {
   "cell_type": "code",
   "execution_count": null,
   "id": "eaca1529",
   "metadata": {},
   "outputs": [],
   "source": []
  }
 ],
 "metadata": {
  "kernelspec": {
   "display_name": "Python 3",
   "language": "python",
   "name": "python3"
  },
  "language_info": {
   "codemirror_mode": {
    "name": "ipython",
    "version": 3
   },
   "file_extension": ".py",
   "mimetype": "text/x-python",
   "name": "python",
   "nbconvert_exporter": "python",
   "pygments_lexer": "ipython3",
   "version": "3.9.0"
  }
 },
 "nbformat": 4,
 "nbformat_minor": 5
}
